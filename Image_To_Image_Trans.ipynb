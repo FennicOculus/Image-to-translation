{
  "nbformat": 4,
  "nbformat_minor": 0,
  "metadata": {
    "colab": {
      "provenance": [],
      "mount_file_id": "1nyPWJtobMImOHbKW7bkm47KhlyS2tU4Q",
      "authorship_tag": "ABX9TyPpoU+gt45QYVKykXVwqK8d",
      "include_colab_link": true
    },
    "kernelspec": {
      "name": "python3",
      "display_name": "Python 3"
    },
    "language_info": {
      "name": "python"
    },
    "gpuClass": "standard",
    "accelerator": "GPU"
  },
  "cells": [
    {
      "cell_type": "markdown",
      "metadata": {
        "id": "view-in-github",
        "colab_type": "text"
      },
      "source": [
        "<a href=\"https://colab.research.google.com/github/FennicOculus/Image-translation-AutoEncoders/blob/main/Image_To_Image_Trans.ipynb\" target=\"_parent\"><img src=\"https://colab.research.google.com/assets/colab-badge.svg\" alt=\"Open In Colab\"/></a>"
      ]
    },
    {
      "cell_type": "markdown",
      "source": [
        "#Downloading Dataset"
      ],
      "metadata": {
        "id": "NWC5IPYTfo0_"
      }
    },
    {
      "cell_type": "code",
      "source": [
        "!cp -r /content/drive/MyDrive/Kaggle/kaggle.json /content"
      ],
      "metadata": {
        "id": "14J9apwgWT0M"
      },
      "execution_count": 1,
      "outputs": []
    },
    {
      "cell_type": "code",
      "source": [
        "! pip install -q kaggle"
      ],
      "metadata": {
        "id": "uJLs6OnkfrzL"
      },
      "execution_count": 2,
      "outputs": []
    },
    {
      "cell_type": "code",
      "source": [
        "!rm -r ~/.kaggle\n",
        "!mkdir ~/.kaggle\n",
        "!mv ./kaggle.json ~/.kaggle/\n",
        "!chmod 600 ~/.kaggle/kaggle.json"
      ],
      "metadata": {
        "id": "0NEtLGU5gsPc",
        "colab": {
          "base_uri": "https://localhost:8080/"
        },
        "outputId": "f8b35837-f802-4eb7-98a8-56a6cee1ba19"
      },
      "execution_count": 3,
      "outputs": [
        {
          "output_type": "stream",
          "name": "stdout",
          "text": [
            "rm: cannot remove '/root/.kaggle': No such file or directory\n"
          ]
        }
      ]
    },
    {
      "cell_type": "code",
      "source": [
        "!kaggle datasets download 'splcher/animefacedataset'"
      ],
      "metadata": {
        "colab": {
          "base_uri": "https://localhost:8080/"
        },
        "id": "K-92o4ErgZ7z",
        "outputId": "e3d43faa-6b8a-43ce-fe5f-9af7f3cd89da"
      },
      "execution_count": 4,
      "outputs": [
        {
          "output_type": "stream",
          "name": "stdout",
          "text": [
            "Downloading animefacedataset.zip to /content\n",
            "100% 394M/395M [00:17<00:00, 24.6MB/s]\n",
            "100% 395M/395M [00:17<00:00, 23.1MB/s]\n"
          ]
        }
      ]
    },
    {
      "cell_type": "code",
      "source": [
        "!unzip animefacedataset.zip"
      ],
      "metadata": {
        "id": "TyB6e0XQg9Wb"
      },
      "execution_count": null,
      "outputs": []
    },
    {
      "cell_type": "markdown",
      "source": [
        "#Importing Libraries"
      ],
      "metadata": {
        "id": "x5vN3HKJfuxl"
      }
    },
    {
      "cell_type": "code",
      "execution_count": null,
      "metadata": {
        "id": "8--fAIFGTYj_"
      },
      "outputs": [],
      "source": [
        "from tensorflow.keras.layers import BatchNormalization\n",
        "from tensorflow.keras.layers import Conv2D\n",
        "from tensorflow.keras.layers import Conv2DTranspose\n",
        "from tensorflow.keras.layers import LeakyReLU\n",
        "from tensorflow.keras.layers import Activation\n",
        "from tensorflow.keras.layers import Flatten\n",
        "from tensorflow.keras.layers import Dense\n",
        "from tensorflow.keras.layers import Reshape\n",
        "from tensorflow.keras.layers import Input\n",
        "from tensorflow.keras.models import Model\n",
        "from tensorflow.keras import backend as K\n",
        "from tensorflow.keras.optimizers import Adam\n",
        "import numpy as np\n",
        "import os\n",
        "from sklearn.model_selection import train_test_split"
      ]
    },
    {
      "cell_type": "markdown",
      "source": [
        "#Encoder Part"
      ],
      "metadata": {
        "id": "JwufkvOrdDgz"
      }
    },
    {
      "cell_type": "code",
      "source": [
        "latentDim = 16\n",
        "inputShape = (28, 28, 1)\n",
        "chanDim = -1\n",
        "depth = 1"
      ],
      "metadata": {
        "id": "Lv1oXypNb2TK"
      },
      "execution_count": 7,
      "outputs": []
    },
    {
      "cell_type": "code",
      "source": [
        "inputs = Input(shape=inputShape)\n",
        "x = inputs\n",
        "\n",
        "x = Conv2D(16, (3, 3), strides=2, padding=\"same\")(x)\n",
        "x = LeakyReLU(alpha=0.2)(x)\n",
        "x = BatchNormalization(axis=3)(x)\n",
        "\n",
        "x = Conv2D(32, (3, 3), strides=2, padding=\"same\")(x)\n",
        "x = LeakyReLU(alpha=0.2)(x)\n",
        "x = BatchNormalization(axis=chanDim)(x)\n",
        "\n",
        "volumeSize = K.int_shape(x)\n",
        "x = Flatten()(x)\n",
        "latent = Dense(latentDim)(x)"
      ],
      "metadata": {
        "id": "OqLO0-lKbcFt"
      },
      "execution_count": 8,
      "outputs": []
    },
    {
      "cell_type": "code",
      "source": [
        "encoder = Model(inputs, latent, name=\"encoder\")\n",
        "encoder.summary()"
      ],
      "metadata": {
        "colab": {
          "base_uri": "https://localhost:8080/"
        },
        "id": "4KdYhGv1cCxc",
        "outputId": "9204cb48-7744-4f2b-df41-0a8e187ce2e2"
      },
      "execution_count": 9,
      "outputs": [
        {
          "output_type": "stream",
          "name": "stdout",
          "text": [
            "Model: \"encoder\"\n",
            "_________________________________________________________________\n",
            " Layer (type)                Output Shape              Param #   \n",
            "=================================================================\n",
            " input_1 (InputLayer)        [(None, 28, 28, 1)]       0         \n",
            "                                                                 \n",
            " conv2d (Conv2D)             (None, 14, 14, 16)        160       \n",
            "                                                                 \n",
            " leaky_re_lu (LeakyReLU)     (None, 14, 14, 16)        0         \n",
            "                                                                 \n",
            " batch_normalization (BatchN  (None, 14, 14, 16)       64        \n",
            " ormalization)                                                   \n",
            "                                                                 \n",
            " conv2d_1 (Conv2D)           (None, 7, 7, 32)          4640      \n",
            "                                                                 \n",
            " leaky_re_lu_1 (LeakyReLU)   (None, 7, 7, 32)          0         \n",
            "                                                                 \n",
            " batch_normalization_1 (Batc  (None, 7, 7, 32)         128       \n",
            " hNormalization)                                                 \n",
            "                                                                 \n",
            " flatten (Flatten)           (None, 1568)              0         \n",
            "                                                                 \n",
            " dense (Dense)               (None, 16)                25104     \n",
            "                                                                 \n",
            "=================================================================\n",
            "Total params: 30,096\n",
            "Trainable params: 30,000\n",
            "Non-trainable params: 96\n",
            "_________________________________________________________________\n"
          ]
        }
      ]
    },
    {
      "cell_type": "markdown",
      "source": [
        "#Decoder part"
      ],
      "metadata": {
        "id": "yHGSVw8NdAaE"
      }
    },
    {
      "cell_type": "code",
      "source": [
        "latentInputs = Input(shape=(latentDim,))\n",
        "x = Dense(np.prod(volumeSize[1:]))(latentInputs)\n",
        "x = Reshape((volumeSize[1], volumeSize[2], volumeSize[3]))(x)"
      ],
      "metadata": {
        "id": "4FUbwW10cIUz"
      },
      "execution_count": 10,
      "outputs": []
    },
    {
      "cell_type": "code",
      "source": [
        "x = Conv2DTranspose(32, (3, 3), strides=2, padding=\"same\")(x)\n",
        "x = LeakyReLU(alpha=0.2)(x)\n",
        "x = BatchNormalization(axis=chanDim)(x)\n",
        "\n",
        "x = Conv2DTranspose(16, (3, 3), strides=2, padding=\"same\")(x)\n",
        "x = LeakyReLU(alpha=0.2)(x)\n",
        "x = BatchNormalization(axis=chanDim)(x)"
      ],
      "metadata": {
        "id": "u_MW5QqvcDWD"
      },
      "execution_count": 11,
      "outputs": []
    },
    {
      "cell_type": "code",
      "source": [
        "x = Conv2DTranspose(depth, (3, 3), padding=\"same\")(x)\n",
        "outputs = Activation(\"sigmoid\")(x)"
      ],
      "metadata": {
        "id": "fEi_lCuPeKwz"
      },
      "execution_count": 12,
      "outputs": []
    },
    {
      "cell_type": "code",
      "source": [
        "decoder = Model(latentInputs, outputs, name=\"decoder\")\n",
        "decoder.summary()"
      ],
      "metadata": {
        "colab": {
          "base_uri": "https://localhost:8080/"
        },
        "id": "_dqW22cDeYAr",
        "outputId": "85e8fbf4-c43f-44bb-a709-220b58440425"
      },
      "execution_count": 13,
      "outputs": [
        {
          "output_type": "stream",
          "name": "stdout",
          "text": [
            "Model: \"decoder\"\n",
            "_________________________________________________________________\n",
            " Layer (type)                Output Shape              Param #   \n",
            "=================================================================\n",
            " input_2 (InputLayer)        [(None, 16)]              0         \n",
            "                                                                 \n",
            " dense_1 (Dense)             (None, 1568)              26656     \n",
            "                                                                 \n",
            " reshape (Reshape)           (None, 7, 7, 32)          0         \n",
            "                                                                 \n",
            " conv2d_transpose (Conv2DTra  (None, 14, 14, 32)       9248      \n",
            " nspose)                                                         \n",
            "                                                                 \n",
            " leaky_re_lu_2 (LeakyReLU)   (None, 14, 14, 32)        0         \n",
            "                                                                 \n",
            " batch_normalization_2 (Batc  (None, 14, 14, 32)       128       \n",
            " hNormalization)                                                 \n",
            "                                                                 \n",
            " conv2d_transpose_1 (Conv2DT  (None, 28, 28, 16)       4624      \n",
            " ranspose)                                                       \n",
            "                                                                 \n",
            " leaky_re_lu_3 (LeakyReLU)   (None, 28, 28, 16)        0         \n",
            "                                                                 \n",
            " batch_normalization_3 (Batc  (None, 28, 28, 16)       64        \n",
            " hNormalization)                                                 \n",
            "                                                                 \n",
            " conv2d_transpose_2 (Conv2DT  (None, 28, 28, 1)        145       \n",
            " ranspose)                                                       \n",
            "                                                                 \n",
            " activation (Activation)     (None, 28, 28, 1)         0         \n",
            "                                                                 \n",
            "=================================================================\n",
            "Total params: 40,865\n",
            "Trainable params: 40,769\n",
            "Non-trainable params: 96\n",
            "_________________________________________________________________\n"
          ]
        }
      ]
    },
    {
      "cell_type": "code",
      "source": [
        "autoencoder = Model(inputs, decoder(encoder(inputs)), name=\"autoencoder\")\n",
        "autoencoder.summary()"
      ],
      "metadata": {
        "colab": {
          "base_uri": "https://localhost:8080/"
        },
        "id": "0Fg22inNeetM",
        "outputId": "1c362171-e4a2-48ab-945f-b0f6082cf92c"
      },
      "execution_count": 14,
      "outputs": [
        {
          "output_type": "stream",
          "name": "stdout",
          "text": [
            "Model: \"autoencoder\"\n",
            "_________________________________________________________________\n",
            " Layer (type)                Output Shape              Param #   \n",
            "=================================================================\n",
            " input_1 (InputLayer)        [(None, 28, 28, 1)]       0         \n",
            "                                                                 \n",
            " encoder (Functional)        (None, 16)                30096     \n",
            "                                                                 \n",
            " decoder (Functional)        (None, 28, 28, 1)         40865     \n",
            "                                                                 \n",
            "=================================================================\n",
            "Total params: 70,961\n",
            "Trainable params: 70,769\n",
            "Non-trainable params: 192\n",
            "_________________________________________________________________\n"
          ]
        }
      ]
    },
    {
      "cell_type": "markdown",
      "source": [
        "#Spliting datasets"
      ],
      "metadata": {
        "id": "_9evB7s_hLto"
      }
    },
    {
      "cell_type": "code",
      "source": [
        "data_dir = '/content/images/'"
      ],
      "metadata": {
        "id": "UW0690o_hRV7"
      },
      "execution_count": 15,
      "outputs": []
    },
    {
      "cell_type": "code",
      "source": [
        "img_files = os.listdir(data_dir)"
      ],
      "metadata": {
        "id": "P6hTPpUfjztl"
      },
      "execution_count": 16,
      "outputs": []
    },
    {
      "cell_type": "code",
      "source": [
        "import os\n",
        "import numpy as np\n",
        "from sklearn.model_selection import train_test_split\n",
        "from PIL import Image\n",
        "from tqdm import tqdm\n",
        "import cv2"
      ],
      "metadata": {
        "id": "gy4JJBs5ooSE"
      },
      "execution_count": 17,
      "outputs": []
    },
    {
      "cell_type": "code",
      "source": [
        "'''images = []\n",
        "for file_name in tqdm(img_files):\n",
        "    img_path = os.path.join(data_dir, file_name)\n",
        "    img = cv2.imread(img_path)\n",
        "    img = cv2.resize(img, (80, 80))\n",
        "    images.append(img)'''"
      ],
      "metadata": {
        "id": "F2h8y-qaok39",
        "colab": {
          "base_uri": "https://localhost:8080/",
          "height": 53
        },
        "outputId": "91f8976c-2ff9-4cdc-bd96-17a17f7e9a5d"
      },
      "execution_count": 18,
      "outputs": [
        {
          "output_type": "execute_result",
          "data": {
            "text/plain": [
              "'images = []\\nfor file_name in tqdm(img_files):\\n    img_path = os.path.join(data_dir, file_name)\\n    img = cv2.imread(img_path)\\n    img = cv2.resize(img, (80, 80))\\n    images.append(img)'"
            ],
            "application/vnd.google.colaboratory.intrinsic+json": {
              "type": "string"
            }
          },
          "metadata": {},
          "execution_count": 18
        }
      ]
    },
    {
      "cell_type": "code",
      "source": [
        "#rain_files, test_files = train_test_split(images, test_size=0.2, random_state=42)"
      ],
      "metadata": {
        "id": "bsBY0GxxkER0"
      },
      "execution_count": 19,
      "outputs": []
    },
    {
      "cell_type": "code",
      "source": [
        "'''train_files = np.expand_dims(train_files, axis=-1)\n",
        "test_files = np.expand_dims(test_files, axis=-1)\n",
        "train_files = train_files.astype(\"float32\") / 255.0\n",
        "test_files = test_files.astype(\"float32\") / 255.0'''"
      ],
      "metadata": {
        "id": "vk-tJuMHoOSU",
        "colab": {
          "base_uri": "https://localhost:8080/",
          "height": 53
        },
        "outputId": "675d3470-9171-4674-eb7e-6191f6a3b9de"
      },
      "execution_count": 20,
      "outputs": [
        {
          "output_type": "execute_result",
          "data": {
            "text/plain": [
              "'train_files = np.expand_dims(train_files, axis=-1)\\ntest_files = np.expand_dims(test_files, axis=-1)\\ntrain_files = train_files.astype(\"float32\") / 255.0\\ntest_files = test_files.astype(\"float32\") / 255.0'"
            ],
            "application/vnd.google.colaboratory.intrinsic+json": {
              "type": "string"
            }
          },
          "metadata": {},
          "execution_count": 20
        }
      ]
    },
    {
      "cell_type": "code",
      "source": [
        "#train_files[0].shape"
      ],
      "metadata": {
        "id": "y9tjJNbFrmTV"
      },
      "execution_count": 21,
      "outputs": []
    },
    {
      "cell_type": "code",
      "source": [
        "from tensorflow.keras.datasets import mnist\n",
        "import numpy as np\n",
        "((trainX, _), (testX, _)) = mnist.load_data()"
      ],
      "metadata": {
        "id": "VKc4pS1mw4Zn",
        "colab": {
          "base_uri": "https://localhost:8080/"
        },
        "outputId": "135f3e5f-1cc2-4281-93a2-2a53c20c9476"
      },
      "execution_count": 22,
      "outputs": [
        {
          "output_type": "stream",
          "name": "stdout",
          "text": [
            "Downloading data from https://storage.googleapis.com/tensorflow/tf-keras-datasets/mnist.npz\n",
            "11490434/11490434 [==============================] - 2s 0us/step\n"
          ]
        }
      ]
    },
    {
      "cell_type": "code",
      "source": [
        "trainX = np.expand_dims(trainX, axis=-1)\n",
        "testX = np.expand_dims(testX, axis=-1)\n",
        "trainX = trainX.astype(\"float32\") / 255.0\n",
        "testX = testX.astype(\"float32\") / 255.0"
      ],
      "metadata": {
        "id": "GTOalBCexBoO"
      },
      "execution_count": 23,
      "outputs": []
    },
    {
      "cell_type": "code",
      "source": [
        "EPOCHS = 25\n",
        "Batch_Size = 32"
      ],
      "metadata": {
        "id": "o5xaaS1oevcE"
      },
      "execution_count": 24,
      "outputs": []
    },
    {
      "cell_type": "code",
      "source": [
        "encoder.build(inputShape)\n",
        "decoder.build(inputShape)\n",
        "autoencoder.build(inputShape)"
      ],
      "metadata": {
        "id": "H076I7OWkXVU"
      },
      "execution_count": 25,
      "outputs": []
    },
    {
      "cell_type": "code",
      "source": [
        "autoencoder.compile(loss=\"mse\", optimizer=Adam(learning_rate=1e-3))"
      ],
      "metadata": {
        "id": "d1gnlBoQk1tC"
      },
      "execution_count": 26,
      "outputs": []
    },
    {
      "cell_type": "code",
      "source": [
        "history = autoencoder.fit(\n",
        "\ttrainX, trainX,\n",
        "\tvalidation_data=(testX, testX),\n",
        "\tepochs=EPOCHS,\n",
        "\tbatch_size=Batch_Size)"
      ],
      "metadata": {
        "id": "iqNS2UEglDuV",
        "colab": {
          "base_uri": "https://localhost:8080/"
        },
        "outputId": "8b1f3b74-cd6e-4930-8f8f-d9467f5a7c63"
      },
      "execution_count": 27,
      "outputs": [
        {
          "output_type": "stream",
          "name": "stdout",
          "text": [
            "Epoch 1/25\n",
            "1875/1875 [==============================] - 23s 6ms/step - loss: 0.0214 - val_loss: 0.0130\n",
            "Epoch 2/25\n",
            "1875/1875 [==============================] - 11s 6ms/step - loss: 0.0115 - val_loss: 0.0110\n",
            "Epoch 3/25\n",
            "1875/1875 [==============================] - 12s 6ms/step - loss: 0.0104 - val_loss: 0.0097\n",
            "Epoch 4/25\n",
            "1875/1875 [==============================] - 11s 6ms/step - loss: 0.0098 - val_loss: 0.0092\n",
            "Epoch 5/25\n",
            "1875/1875 [==============================] - 12s 6ms/step - loss: 0.0094 - val_loss: 0.0092\n",
            "Epoch 6/25\n",
            "1875/1875 [==============================] - 11s 6ms/step - loss: 0.0091 - val_loss: 0.0088\n",
            "Epoch 7/25\n",
            "1875/1875 [==============================] - 11s 6ms/step - loss: 0.0089 - val_loss: 0.0087\n",
            "Epoch 8/25\n",
            "1875/1875 [==============================] - 10s 6ms/step - loss: 0.0087 - val_loss: 0.0086\n",
            "Epoch 9/25\n",
            "1875/1875 [==============================] - 11s 6ms/step - loss: 0.0086 - val_loss: 0.0088\n",
            "Epoch 10/25\n",
            "1875/1875 [==============================] - 12s 6ms/step - loss: 0.0085 - val_loss: 0.0082\n",
            "Epoch 11/25\n",
            "1875/1875 [==============================] - 12s 6ms/step - loss: 0.0084 - val_loss: 0.0082\n",
            "Epoch 12/25\n",
            "1875/1875 [==============================] - 11s 6ms/step - loss: 0.0083 - val_loss: 0.0081\n",
            "Epoch 13/25\n",
            "1875/1875 [==============================] - 11s 6ms/step - loss: 0.0082 - val_loss: 0.0088\n",
            "Epoch 14/25\n",
            "1875/1875 [==============================] - 10s 6ms/step - loss: 0.0081 - val_loss: 0.0081\n",
            "Epoch 15/25\n",
            "1875/1875 [==============================] - 13s 7ms/step - loss: 0.0081 - val_loss: 0.0081\n",
            "Epoch 16/25\n",
            "1875/1875 [==============================] - 11s 6ms/step - loss: 0.0080 - val_loss: 0.0079\n",
            "Epoch 17/25\n",
            "1875/1875 [==============================] - 12s 6ms/step - loss: 0.0080 - val_loss: 0.0079\n",
            "Epoch 18/25\n",
            "1875/1875 [==============================] - 12s 6ms/step - loss: 0.0079 - val_loss: 0.0078\n",
            "Epoch 19/25\n",
            "1875/1875 [==============================] - 19s 10ms/step - loss: 0.0079 - val_loss: 0.0079\n",
            "Epoch 20/25\n",
            "1875/1875 [==============================] - 13s 7ms/step - loss: 0.0078 - val_loss: 0.0078\n",
            "Epoch 21/25\n",
            "1875/1875 [==============================] - 13s 7ms/step - loss: 0.0078 - val_loss: 0.0078\n",
            "Epoch 22/25\n",
            "1875/1875 [==============================] - 13s 7ms/step - loss: 0.0077 - val_loss: 0.0077\n",
            "Epoch 23/25\n",
            "1875/1875 [==============================] - 11s 6ms/step - loss: 0.0077 - val_loss: 0.0077\n",
            "Epoch 24/25\n",
            "1875/1875 [==============================] - 10s 6ms/step - loss: 0.0077 - val_loss: 0.0076\n",
            "Epoch 25/25\n",
            "1875/1875 [==============================] - 12s 6ms/step - loss: 0.0077 - val_loss: 0.0076\n"
          ]
        }
      ]
    },
    {
      "cell_type": "code",
      "source": [
        "from tensorflow.keras.optimizers import Adam\n",
        "from tensorflow.keras.datasets import mnist\n",
        "import matplotlib.pyplot as plt\n",
        "import numpy as np\n",
        "import argparse\n",
        "import cv2"
      ],
      "metadata": {
        "id": "fThO3V1W55yb"
      },
      "execution_count": 31,
      "outputs": []
    },
    {
      "cell_type": "code",
      "source": [
        "N = np.arange(0, EPOCHS)\n",
        "plt.style.use(\"ggplot\")\n",
        "plt.figure()\n",
        "plt.plot(N, history.history[\"loss\"], label=\"train_loss\")\n",
        "plt.plot(N, history.history[\"val_loss\"], label=\"val_loss\")\n",
        "plt.title(\"Training Loss and Accuracy\")\n",
        "plt.xlabel(\"Epoch #\")\n",
        "plt.ylabel(\"Loss/Accuracy\")\n",
        "plt.legend(loc=\"lower left\")"
      ],
      "metadata": {
        "colab": {
          "base_uri": "https://localhost:8080/",
          "height": 316
        },
        "id": "hKFX38pX5g2B",
        "outputId": "d9ec8602-679d-44c1-c57a-86e12435efe4"
      },
      "execution_count": 33,
      "outputs": [
        {
          "output_type": "execute_result",
          "data": {
            "text/plain": [
              "<matplotlib.legend.Legend at 0x7efe6129b670>"
            ]
          },
          "metadata": {},
          "execution_count": 33
        },
        {
          "output_type": "display_data",
          "data": {
            "text/plain": [
              "<Figure size 432x288 with 1 Axes>"
            ],
            "image/png": "[encoded data removed]"
          },
          "metadata": {}
        }
      ]
    },
    {
      "cell_type": "code",
      "source": [
        "print(\"[INFO] making predictions...\")\n",
        "decoded = autoencoder.predict(testX)\n",
        "outputs = None"
      ],
      "metadata": {
        "colab": {
          "base_uri": "https://localhost:8080/"
        },
        "id": "jixoUZhw5k96",
        "outputId": "b9d50bea-b540-4879-a25d-2ca331032f8a"
      },
      "execution_count": 35,
      "outputs": [
        {
          "output_type": "stream",
          "name": "stdout",
          "text": [
            "[INFO] making predictions...\n",
            "313/313 [==============================] - 1s 3ms/step\n"
          ]
        }
      ]
    },
    {
      "cell_type": "code",
      "source": [
        "decoded.shape"
      ],
      "metadata": {
        "colab": {
          "base_uri": "https://localhost:8080/"
        },
        "id": "Y3kd0r4g9-bC",
        "outputId": "cc02177d-1259-4ca4-a909-c78e917e3da9"
      },
      "execution_count": 36,
      "outputs": [
        {
          "output_type": "execute_result",
          "data": {
            "text/plain": [
              "(10000, 28, 28, 1)"
            ]
          },
          "metadata": {},
          "execution_count": 36
        }
      ]
    },
    {
      "cell_type": "code",
      "source": [
        "testX.shape"
      ],
      "metadata": {
        "colab": {
          "base_uri": "https://localhost:8080/"
        },
        "id": "nhgeC6cY-JVq",
        "outputId": "462ab36d-4ef8-48f2-8c62-8d81cb13a241"
      },
      "execution_count": 38,
      "outputs": [
        {
          "output_type": "execute_result",
          "data": {
            "text/plain": [
              "(10000, 28, 28, 1)"
            ]
          },
          "metadata": {},
          "execution_count": 38
        }
      ]
    },
    {
      "cell_type": "code",
      "source": [
        "i = 500"
      ],
      "metadata": {
        "id": "x4z7aPW6-5Oa"
      },
      "execution_count": 44,
      "outputs": []
    },
    {
      "cell_type": "code",
      "source": [
        "plt.imshow(testX[i], cmap=plt.cm.binary)"
      ],
      "metadata": {
        "colab": {
          "base_uri": "https://localhost:8080/",
          "height": 282
        },
        "id": "ZlB7xq8H-LCS",
        "outputId": "19a9a8b8-fcf4-4fd5-c471-32e878f5dc81"
      },
      "execution_count": 45,
      "outputs": [
        {
          "output_type": "execute_result",
          "data": {
            "text/plain": [
              "<matplotlib.image.AxesImage at 0x7efdfc1fbeb0>"
            ]
          },
          "metadata": {},
          "execution_count": 45
        },
        {
          "output_type": "display_data",
          "data": {
            "text/plain": [
              "<Figure size 432x288 with 1 Axes>"
            ],
            "image/png": "[encoded data removed]"
          },
          "metadata": {}
        }
      ]
    },
    {
      "cell_type": "code",
      "source": [
        "plt.imshow(decoded[i], cmap=plt.cm.binary)"
      ],
      "metadata": {
        "colab": {
          "base_uri": "https://localhost:8080/",
          "height": 282
        },
        "id": "NLUHWn26-CZL",
        "outputId": "00ed1768-49c4-4a40-ccb1-4a9f282c4ea8"
      },
      "execution_count": 46,
      "outputs": [
        {
          "output_type": "execute_result",
          "data": {
            "text/plain": [
              "<matplotlib.image.AxesImage at 0x7efdfc164dc0>"
            ]
          },
          "metadata": {},
          "execution_count": 46
        },
        {
          "output_type": "display_data",
          "data": {
            "text/plain": [
              "<Figure size 432x288 with 1 Axes>"
            ],
            "image/png": "[encoded data removed]"
          },
          "metadata": {}
        }
      ]
    },
    {
      "cell_type": "code",
      "source": [
        "#train_files[0]"
      ],
      "metadata": {
        "id": "bI9bZ0nolch0"
      },
      "execution_count": 47,
      "outputs": []
    },
    {
      "cell_type": "code",
      "source": [
        "'''import cv2\n",
        "img = cv2.imread(\"images/16890_2007.jpg\")\n",
        "img.shape'''"
      ],
      "metadata": {
        "id": "NvRZs7Ejlghs",
        "colab": {
          "base_uri": "https://localhost:8080/",
          "height": 35
        },
        "outputId": "6db2e4b3-9646-47bb-8ff3-ae6d2d3bb6ec"
      },
      "execution_count": 48,
      "outputs": [
        {
          "output_type": "execute_result",
          "data": {
            "text/plain": [
              "'import cv2\\nimg = cv2.imread(\"images/16890_2007.jpg\")\\nimg.shape'"
            ],
            "application/vnd.google.colaboratory.intrinsic+json": {
              "type": "string"
            }
          },
          "metadata": {},
          "execution_count": 48
        }
      ]
    }
  ]
}