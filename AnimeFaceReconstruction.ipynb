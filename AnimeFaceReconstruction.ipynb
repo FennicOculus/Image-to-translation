{
  "nbformat": 4,
  "nbformat_minor": 0,
  "metadata": {
    "colab": {
      "provenance": [],
      "mount_file_id": "1o4zNm72OyngylMK6HXx74bSG6AMyYe6n",
      "authorship_tag": "ABX9TyOLj1vrqNF3nE7Qbti6LK3+",
      "include_colab_link": true
    },
    "kernelspec": {
      "name": "python3",
      "display_name": "Python 3"
    },
    "language_info": {
      "name": "python"
    },
    "gpuClass": "standard",
    "accelerator": "GPU"
  },
  "cells": [
    {
      "cell_type": "markdown",
      "metadata": {
        "id": "view-in-github",
        "colab_type": "text"
      },
      "source": [
        "<a href=\"https://colab.research.google.com/github/FennicOculus/Image-translation/blob/main/AnimeFaceReconstruction.ipynb\" target=\"_parent\"><img src=\"https://colab.research.google.com/assets/colab-badge.svg\" alt=\"Open In Colab\"/></a>"
      ]
    },
    {
      "cell_type": "markdown",
      "source": [
        "i run this notebook a lot so the following variable is used so i can run all the notebook at once without training the model if i don't want to X)"
      ],
      "metadata": {
        "id": "wwAiqSThfcRB"
      }
    },
    {
      "cell_type": "code",
      "source": [
        "wannaTrain = False\n",
        "downloaded = False\n",
        "scratch = False"
      ],
      "metadata": {
        "id": "E_wjB2oRfm_G"
      },
      "execution_count": null,
      "outputs": []
    },
    {
      "cell_type": "markdown",
      "source": [
        "#Downloading Dataset"
      ],
      "metadata": {
        "id": "NWC5IPYTfo0_"
      }
    },
    {
      "cell_type": "code",
      "source": [
        "!cp -r /content/drive/MyDrive/Kaggle/kaggle.json /content"
      ],
      "metadata": {
        "id": "14J9apwgWT0M"
      },
      "execution_count": null,
      "outputs": []
    },
    {
      "cell_type": "code",
      "source": [
        "! pip install -q kaggle"
      ],
      "metadata": {
        "id": "uJLs6OnkfrzL"
      },
      "execution_count": null,
      "outputs": []
    },
    {
      "cell_type": "code",
      "source": [
        "!rm -r ~/.kaggle\n",
        "!mkdir ~/.kaggle\n",
        "!mv ./kaggle.json ~/.kaggle/\n",
        "!chmod 600 ~/.kaggle/kaggle.json"
      ],
      "metadata": {
        "id": "0NEtLGU5gsPc"
      },
      "execution_count": null,
      "outputs": []
    },
    {
      "cell_type": "markdown",
      "source": [
        "I used the anime face dataset on [Kaggle](https://www.kaggle.com/datasets/splcher/animefacedataset) provided by splcher"
      ],
      "metadata": {
        "id": "FeeeFlKGdvpW"
      }
    },
    {
      "cell_type": "code",
      "source": [
        "if not downloaded:\n",
        "  !kaggle datasets download 'splcher/animefacedataset'\n",
        "  !unzip animefacedataset.zip"
      ],
      "metadata": {
        "id": "K-92o4ErgZ7z"
      },
      "execution_count": null,
      "outputs": []
    },
    {
      "cell_type": "markdown",
      "source": [
        "#Importing Libraries"
      ],
      "metadata": {
        "id": "x5vN3HKJfuxl"
      }
    },
    {
      "cell_type": "code",
      "execution_count": null,
      "metadata": {
        "id": "8--fAIFGTYj_"
      },
      "outputs": [],
      "source": [
        "from keras.layers import BatchNormalization\n",
        "from keras.layers import Conv2D\n",
        "from keras.layers import Conv2DTranspose\n",
        "from keras.layers import LeakyReLU\n",
        "from keras.layers import Activation\n",
        "from keras.layers import Flatten\n",
        "from keras.layers import Dense\n",
        "from keras.layers import Reshape\n",
        "from keras.layers import Input\n",
        "from keras.layers import Dropout\n",
        "from keras.models import Model\n",
        "from keras import backend as K\n",
        "from keras.layers import Rescaling, Resizing\n",
        "from keras.optimizers import Adam\n",
        "from keras.preprocessing.image import ImageDataGenerator\n",
        "from keras.callbacks import ModelCheckpoint, EarlyStopping, ReduceLROnPlateau, LambdaCallback, TensorBoard\n",
        "from keras import regularizers\n",
        "import numpy as np\n",
        "import os\n",
        "import datetime\n",
        "import gc #garbage collector\n",
        "from sklearn.model_selection import train_test_split\n",
        "import tensorflow as tf\n",
        "import matplotlib.pyplot as plt\n",
        "from PIL import Image\n",
        "from tqdm import tqdm\n",
        "import cv2\n",
        "import psutil"
      ]
    },
    {
      "cell_type": "code",
      "source": [
        "!rm -rf ./logs/ "
      ],
      "metadata": {
        "id": "P3G2asU7pJED"
      },
      "execution_count": null,
      "outputs": []
    },
    {
      "cell_type": "markdown",
      "source": [
        "Checking if i'm using GPU or CPU"
      ],
      "metadata": {
        "id": "ck8tNc88erbV"
      }
    },
    {
      "cell_type": "code",
      "source": [
        "device_name = tf.test.gpu_device_name()\n",
        "if len(device_name) > 0:\n",
        "    print(\"Found GPU at: {}\".format(device_name))\n",
        "else:\n",
        "    device_name = \"/device:CPU:0\"\n",
        "    print(\"No GPU, using {}.\".format(device_name))"
      ],
      "metadata": {
        "colab": {
          "base_uri": "https://localhost:8080/"
        },
        "id": "OfyPk944CeH5",
        "outputId": "12891a8a-246a-4ffe-de27-003f1ff9c5ca"
      },
      "execution_count": null,
      "outputs": [
        {
          "output_type": "stream",
          "name": "stdout",
          "text": [
            "No GPU, using /device:CPU:0.\n"
          ]
        }
      ]
    },
    {
      "cell_type": "markdown",
      "source": [
        "#Dataset Preprocessing"
      ],
      "metadata": {
        "id": "YNkxN_PBxNGv"
      }
    },
    {
      "cell_type": "markdown",
      "source": [
        "All images are squared so we just define one dim and use it twice"
      ],
      "metadata": {
        "id": "rXhnPlYOevB1"
      }
    },
    {
      "cell_type": "code",
      "source": [
        "hight = 32"
      ],
      "metadata": {
        "id": "OiQcE9BA7IzC"
      },
      "execution_count": null,
      "outputs": []
    },
    {
      "cell_type": "code",
      "source": [
        "path_to_img = \"/content/images/\""
      ],
      "metadata": {
        "id": "qZAiiG9FxFfE"
      },
      "execution_count": null,
      "outputs": []
    },
    {
      "cell_type": "markdown",
      "source": [
        "Loading images paths"
      ],
      "metadata": {
        "id": "La0yFAorfCqu"
      }
    },
    {
      "cell_type": "code",
      "source": [
        "dataset = [path_to_img + i for i in os.listdir(path_to_img)]\n",
        "print(len(dataset))\n",
        "print(dataset[:3])"
      ],
      "metadata": {
        "colab": {
          "base_uri": "https://localhost:8080/"
        },
        "id": "kUXhlcGWxLyr",
        "outputId": "c62a87b2-7dfd-4fcb-86f8-7150c91e9247"
      },
      "execution_count": null,
      "outputs": [
        {
          "output_type": "stream",
          "name": "stdout",
          "text": [
            "63565\n",
            "['/content/images/7109_2003.jpg', '/content/images/11116_2005.jpg', '/content/images/19297_2007.jpg']\n"
          ]
        }
      ]
    },
    {
      "cell_type": "markdown",
      "source": [
        "Creating the dataset"
      ],
      "metadata": {
        "id": "g76Nsf9IfEuN"
      }
    },
    {
      "cell_type": "code",
      "source": [
        "ae_dataset = []\n",
        "for i in tqdm(dataset):\n",
        "  ae_dataset.append(cv2.resize(np.array(cv2.imread(i)[:,:,::-1]),(hight, hight)).astype(\"float32\")/255.0)"
      ],
      "metadata": {
        "colab": {
          "base_uri": "https://localhost:8080/"
        },
        "id": "6RMmUt2ux7Xb",
        "outputId": "3efa7f95-b609-4857-8549-ae8c42430e1e"
      },
      "execution_count": null,
      "outputs": [
        {
          "output_type": "stream",
          "name": "stderr",
          "text": [
            "100%|██████████| 63565/63565 [00:45<00:00, 1389.40it/s]\n"
          ]
        }
      ]
    },
    {
      "cell_type": "code",
      "source": [
        "ae_dataset = np.array(ae_dataset)"
      ],
      "metadata": {
        "id": "rLNfSF8AzuI7"
      },
      "execution_count": null,
      "outputs": []
    },
    {
      "cell_type": "code",
      "source": [
        "ae_dataset.shape"
      ],
      "metadata": {
        "colab": {
          "base_uri": "https://localhost:8080/"
        },
        "id": "cON8kMZz8DZ6",
        "outputId": "20fdf9bb-169b-447d-afbd-d1d97b435272"
      },
      "execution_count": null,
      "outputs": [
        {
          "output_type": "execute_result",
          "data": {
            "text/plain": [
              "(63565, 32, 32, 3)"
            ]
          },
          "metadata": {},
          "execution_count": 28
        }
      ]
    },
    {
      "cell_type": "markdown",
      "source": [
        "We create the train and test sets"
      ],
      "metadata": {
        "id": "DM0JQ1fgfHEK"
      }
    },
    {
      "cell_type": "code",
      "source": [
        "np.random.shuffle(ae_dataset)"
      ],
      "metadata": {
        "id": "U0JdIpGObOwe"
      },
      "execution_count": null,
      "outputs": []
    },
    {
      "cell_type": "code",
      "source": [
        "split_index = int(0.95 * len(ae_dataset))\n",
        "ae_train, ae_vali = np.split(ae_dataset, [split_index])"
      ],
      "metadata": {
        "id": "7BjVWvhqbSyP"
      },
      "execution_count": null,
      "outputs": []
    },
    {
      "cell_type": "code",
      "source": [
        "split_index = int(0.8 * len(ae_train))\n",
        "ae_train, ae_test = np.split(ae_train, [split_index])"
      ],
      "metadata": {
        "id": "e8Ae6iSZqBQT"
      },
      "execution_count": null,
      "outputs": []
    },
    {
      "cell_type": "code",
      "source": [
        "ae_train.shape, ae_test.shape, ae_vali.shape"
      ],
      "metadata": {
        "colab": {
          "base_uri": "https://localhost:8080/"
        },
        "id": "1AQ3qxM5br6-",
        "outputId": "efd08924-a524-4c6f-fac7-ec46a02ab760"
      },
      "execution_count": null,
      "outputs": [
        {
          "output_type": "execute_result",
          "data": {
            "text/plain": [
              "((48308, 32, 32, 3), (12078, 32, 32, 3), (3179, 32, 32, 3))"
            ]
          },
          "metadata": {},
          "execution_count": 32
        }
      ]
    },
    {
      "cell_type": "markdown",
      "source": [
        "Delete to free some ram space"
      ],
      "metadata": {
        "id": "m_w152vXlN-D"
      }
    },
    {
      "cell_type": "code",
      "source": [
        "del ae_dataset\n",
        "gc.collect()"
      ],
      "metadata": {
        "colab": {
          "base_uri": "https://localhost:8080/"
        },
        "id": "znzc-WM9lMHe",
        "outputId": "d721358c-75dd-4d85-f529-368b666a4bb7"
      },
      "execution_count": null,
      "outputs": [
        {
          "output_type": "execute_result",
          "data": {
            "text/plain": [
              "25"
            ]
          },
          "metadata": {},
          "execution_count": 33
        }
      ]
    },
    {
      "cell_type": "markdown",
      "source": [
        "Show some exemples"
      ],
      "metadata": {
        "id": "Oyf6mjvMfRgN"
      }
    },
    {
      "cell_type": "code",
      "source": [
        "fig, ax = plt.subplots(2, 5, figsize=(15, 6))\n",
        "for i in range(2):\n",
        "    for j in range(5):\n",
        "      ax[i, j].imshow(ae_train[i*5 + j])\n",
        "      ax[i, j].axis('off')\n",
        "      ax[i, j].set_title(f'Image {i*5 + j + 1}')\n",
        "plt.show()"
      ],
      "metadata": {
        "colab": {
          "base_uri": "https://localhost:8080/",
          "height": 369
        },
        "id": "Ozeu3km34R9C",
        "outputId": "68cdefec-6702-46fa-a134-581d15a8f14e"
      },
      "execution_count": null,
      "outputs": [
        {
          "output_type": "display_data",
          "data": {
            "text/plain": [
              "<Figure size 1080x432 with 10 Axes>"
            ],
            "image/png": "[encoded data removed]"
          },
          "metadata": {
            "needs_background": "light"
          }
        }
      ]
    },
    {
      "cell_type": "markdown",
      "source": [
        "#Encoder Part"
      ],
      "metadata": {
        "id": "JwufkvOrdDgz"
      }
    },
    {
      "cell_type": "code",
      "source": [
        "latentDim = 16\n",
        "inputShape = (hight, hight, 3)\n",
        "chanDim = 3\n",
        "depth = 1"
      ],
      "metadata": {
        "id": "Lv1oXypNb2TK"
      },
      "execution_count": null,
      "outputs": []
    },
    {
      "cell_type": "code",
      "source": [
        "inputs = Input(shape=inputShape)\n",
        "x = inputs\n",
        "\n",
        "x = Conv2D(16, (3, 3), strides=2, padding=\"same\")(x)\n",
        "x = LeakyReLU(alpha=0.2)(x)\n",
        "x = BatchNormalization(axis=3)(x)\n",
        "\n",
        "x = Conv2D(32, (3, 3), strides=2, padding=\"same\")(x)\n",
        "x = LeakyReLU(alpha=0.2)(x)\n",
        "x = BatchNormalization(axis=chanDim)(x)\n",
        "\n",
        "volumeSize = K.int_shape(x)\n",
        "x = Flatten()(x)\n",
        "latent = Dense(latentDim)(x)"
      ],
      "metadata": {
        "id": "OqLO0-lKbcFt"
      },
      "execution_count": null,
      "outputs": []
    },
    {
      "cell_type": "code",
      "source": [
        "encoder = Model(inputs, latent, name=\"encoder\")\n",
        "encoder.summary()"
      ],
      "metadata": {
        "colab": {
          "base_uri": "https://localhost:8080/"
        },
        "id": "4KdYhGv1cCxc",
        "outputId": "7e69898a-f809-41e4-e377-dd8846fbcef0"
      },
      "execution_count": null,
      "outputs": [
        {
          "output_type": "stream",
          "name": "stdout",
          "text": [
            "Model: \"encoder\"\n",
            "_________________________________________________________________\n",
            " Layer (type)                Output Shape              Param #   \n",
            "=================================================================\n",
            " input_1 (InputLayer)        [(None, 32, 32, 3)]       0         \n",
            "                                                                 \n",
            " conv2d (Conv2D)             (None, 16, 16, 16)        448       \n",
            "                                                                 \n",
            " leaky_re_lu (LeakyReLU)     (None, 16, 16, 16)        0         \n",
            "                                                                 \n",
            " batch_normalization (BatchN  (None, 16, 16, 16)       64        \n",
            " ormalization)                                                   \n",
            "                                                                 \n",
            " conv2d_1 (Conv2D)           (None, 8, 8, 32)          4640      \n",
            "                                                                 \n",
            " leaky_re_lu_1 (LeakyReLU)   (None, 8, 8, 32)          0         \n",
            "                                                                 \n",
            " batch_normalization_1 (Batc  (None, 8, 8, 32)         128       \n",
            " hNormalization)                                                 \n",
            "                                                                 \n",
            " flatten (Flatten)           (None, 2048)              0         \n",
            "                                                                 \n",
            " dense (Dense)               (None, 16)                32784     \n",
            "                                                                 \n",
            "=================================================================\n",
            "Total params: 38,064\n",
            "Trainable params: 37,968\n",
            "Non-trainable params: 96\n",
            "_________________________________________________________________\n"
          ]
        }
      ]
    },
    {
      "cell_type": "markdown",
      "source": [
        "#Decoder part"
      ],
      "metadata": {
        "id": "yHGSVw8NdAaE"
      }
    },
    {
      "cell_type": "code",
      "source": [
        "latentInputs = Input(shape=(latentDim,))\n",
        "x = Dense(np.prod(volumeSize[1:]))(latentInputs)\n",
        "x = Reshape((volumeSize[1], volumeSize[2], volumeSize[3]))(x)"
      ],
      "metadata": {
        "id": "4FUbwW10cIUz"
      },
      "execution_count": null,
      "outputs": []
    },
    {
      "cell_type": "code",
      "source": [
        "x = Conv2DTranspose(32, (3, 3), strides=2, padding=\"same\")(x)\n",
        "x = LeakyReLU(alpha=0.2)(x)\n",
        "x = BatchNormalization(axis=chanDim)(x)\n",
        "\n",
        "x = Conv2DTranspose(16, (3, 3), strides=2, padding=\"same\")(x)\n",
        "x = LeakyReLU(alpha=0.2)(x)\n",
        "x = BatchNormalization(axis=chanDim)(x)"
      ],
      "metadata": {
        "id": "u_MW5QqvcDWD"
      },
      "execution_count": null,
      "outputs": []
    },
    {
      "cell_type": "code",
      "source": [
        "x = Conv2DTranspose(3, (3, 3), padding=\"same\")(x)\n",
        "outputs = Activation(\"sigmoid\")(x)"
      ],
      "metadata": {
        "id": "fEi_lCuPeKwz"
      },
      "execution_count": null,
      "outputs": []
    },
    {
      "cell_type": "code",
      "source": [
        "decoder = Model(latentInputs, outputs, name=\"decoder\")\n",
        "decoder.summary()"
      ],
      "metadata": {
        "colab": {
          "base_uri": "https://localhost:8080/"
        },
        "id": "_dqW22cDeYAr",
        "outputId": "d243a4f6-406f-4eb4-e353-6c1c0da1a2ef"
      },
      "execution_count": null,
      "outputs": [
        {
          "output_type": "stream",
          "name": "stdout",
          "text": [
            "Model: \"decoder\"\n",
            "_________________________________________________________________\n",
            " Layer (type)                Output Shape              Param #   \n",
            "=================================================================\n",
            " input_2 (InputLayer)        [(None, 16)]              0         \n",
            "                                                                 \n",
            " dense_1 (Dense)             (None, 2048)              34816     \n",
            "                                                                 \n",
            " reshape (Reshape)           (None, 8, 8, 32)          0         \n",
            "                                                                 \n",
            " conv2d_transpose (Conv2DTra  (None, 16, 16, 32)       9248      \n",
            " nspose)                                                         \n",
            "                                                                 \n",
            " leaky_re_lu_2 (LeakyReLU)   (None, 16, 16, 32)        0         \n",
            "                                                                 \n",
            " batch_normalization_2 (Batc  (None, 16, 16, 32)       128       \n",
            " hNormalization)                                                 \n",
            "                                                                 \n",
            " conv2d_transpose_1 (Conv2DT  (None, 32, 32, 16)       4624      \n",
            " ranspose)                                                       \n",
            "                                                                 \n",
            " leaky_re_lu_3 (LeakyReLU)   (None, 32, 32, 16)        0         \n",
            "                                                                 \n",
            " batch_normalization_3 (Batc  (None, 32, 32, 16)       64        \n",
            " hNormalization)                                                 \n",
            "                                                                 \n",
            " conv2d_transpose_2 (Conv2DT  (None, 32, 32, 3)        435       \n",
            " ranspose)                                                       \n",
            "                                                                 \n",
            " activation (Activation)     (None, 32, 32, 3)         0         \n",
            "                                                                 \n",
            "=================================================================\n",
            "Total params: 49,315\n",
            "Trainable params: 49,219\n",
            "Non-trainable params: 96\n",
            "_________________________________________________________________\n"
          ]
        }
      ]
    },
    {
      "cell_type": "code",
      "source": [
        "autoencoder = Model(inputs, decoder(encoder(inputs)), name=\"autoencoder\")\n",
        "autoencoder.summary()"
      ],
      "metadata": {
        "colab": {
          "base_uri": "https://localhost:8080/"
        },
        "id": "0Fg22inNeetM",
        "outputId": "df653a93-544b-45d7-ff71-135d94d8b5bd"
      },
      "execution_count": null,
      "outputs": [
        {
          "output_type": "stream",
          "name": "stdout",
          "text": [
            "Model: \"autoencoder\"\n",
            "_________________________________________________________________\n",
            " Layer (type)                Output Shape              Param #   \n",
            "=================================================================\n",
            " input_1 (InputLayer)        [(None, 32, 32, 3)]       0         \n",
            "                                                                 \n",
            " encoder (Functional)        (None, 16)                38064     \n",
            "                                                                 \n",
            " decoder (Functional)        (None, 32, 32, 3)         49315     \n",
            "                                                                 \n",
            "=================================================================\n",
            "Total params: 87,379\n",
            "Trainable params: 87,187\n",
            "Non-trainable params: 192\n",
            "_________________________________________________________________\n"
          ]
        }
      ]
    },
    {
      "cell_type": "markdown",
      "source": [
        "#Spliting datasets"
      ],
      "metadata": {
        "id": "_9evB7s_hLto"
      }
    },
    {
      "cell_type": "code",
      "source": [
        "EPOCHS = 100\n",
        "Batch_Size = 32"
      ],
      "metadata": {
        "id": "o5xaaS1oevcE"
      },
      "execution_count": null,
      "outputs": []
    },
    {
      "cell_type": "code",
      "source": [
        "encoder.build(inputShape)\n",
        "decoder.build(inputShape)\n",
        "autoencoder.build(inputShape)"
      ],
      "metadata": {
        "id": "H076I7OWkXVU"
      },
      "execution_count": null,
      "outputs": []
    },
    {
      "cell_type": "code",
      "source": [
        "autoencoder.compile(loss=\"mse\", optimizer=Adam(learning_rate=1e-3))"
      ],
      "metadata": {
        "id": "d1gnlBoQk1tC"
      },
      "execution_count": null,
      "outputs": []
    },
    {
      "cell_type": "code",
      "source": [
        "!mkdir checkpoints\n",
        "!mkdir logs\n",
        "!mkdir logs/fit"
      ],
      "metadata": {
        "id": "eCEURF5mFNpl"
      },
      "execution_count": null,
      "outputs": []
    },
    {
      "cell_type": "code",
      "source": [
        "def show_prediction(epoch, logs):\n",
        "    if epoch % 10 == 1:\n",
        "        decoded_imgs = autoencoder.predict(ae_dataset[:4])\n",
        "        n = 10  # number of digits to display\n",
        "        plt.figure(figsize=(20, 4))\n",
        "        for i in range(n):\n",
        "            # display original\n",
        "            ax = plt.subplot(2, n, i + 1)\n",
        "            plt.imshow(ae_dataset[i].reshape(hight, hight))\n",
        "            ax.get_xaxis().set_visible(False)\n",
        "            ax.get_yaxis().set_visible(False)\n",
        "\n",
        "            # display reconstruction\n",
        "            ax = plt.subplot(2, n, i + 1 + n)\n",
        "            plt.imshow(decoded_imgs[i].reshape(hight, hight))\n",
        "            plt.gray()\n",
        "            ax.get_xaxis().set_visible(False)\n",
        "            ax.get_yaxis().set_visible(False)\n",
        "        plt.show()\n"
      ],
      "metadata": {
        "id": "zNoRfWaFP4ET"
      },
      "execution_count": null,
      "outputs": []
    },
    {
      "cell_type": "code",
      "source": [
        "checkpoint_path = \"/content/drive/MyDrive/AutoEncoders/best_model.h5\"\n",
        "log_dir = '/content/logs/'"
      ],
      "metadata": {
        "id": "Uq8DQ7AxMQrT"
      },
      "execution_count": null,
      "outputs": []
    },
    {
      "cell_type": "code",
      "source": [
        "mc = ModelCheckpoint('checkpoints/weights{epoch:03d}.h5', save_weights_only=True, period=10)\n",
        "early_stop = EarlyStopping(monitor='val_loss', patience=4)\n",
        "lr_reduce = ReduceLROnPlateau(monitor='val_loss', factor=0.1, patience=2)\n",
        "checkpoint = ModelCheckpoint(checkpoint_path, monitor='val_loss', verbose=1, save_weights_only=True, save_best_only=True, mode='min')\n",
        "tensorboard_callback = TensorBoard(log_dir=log_dir, histogram_freq=1)"
      ],
      "metadata": {
        "colab": {
          "base_uri": "https://localhost:8080/"
        },
        "id": "lEy_9QTyE9NA",
        "outputId": "6643eda0-192c-4106-95e3-528515d6fd1c"
      },
      "execution_count": null,
      "outputs": [
        {
          "output_type": "stream",
          "name": "stderr",
          "text": [
            "WARNING:tensorflow:`period` argument is deprecated. Please use `save_freq` to specify the frequency in number of batches seen.\n"
          ]
        }
      ]
    },
    {
      "cell_type": "markdown",
      "source": [
        "i load the latest best model"
      ],
      "metadata": {
        "id": "EmKq3PbMdjNB"
      }
    },
    {
      "cell_type": "code",
      "source": [
        "filename = 'best_model.h5'\n",
        "!cp -r /content/drive/MyDrive/AutoEncoders/best_model.h5 /content\n",
        "print(f'The file {filename} was copied.')\n"
      ],
      "metadata": {
        "colab": {
          "base_uri": "https://localhost:8080/"
        },
        "id": "jjl_JAIpabMX",
        "outputId": "3e22fa7e-5897-4034-ff02-084b9c36a13a"
      },
      "execution_count": null,
      "outputs": [
        {
          "output_type": "stream",
          "name": "stdout",
          "text": [
            "The file best_model.h5 was copied.\n"
          ]
        }
      ]
    },
    {
      "cell_type": "markdown",
      "source": [
        "if the file doesn't exist we just train from scratch"
      ],
      "metadata": {
        "id": "kob_-KnCdodX"
      }
    },
    {
      "cell_type": "code",
      "source": [
        "if os.path.exists(filename) and (not scratch):\n",
        "    autoencoder.load_weights('/content/best_model.h5')"
      ],
      "metadata": {
        "id": "TouylE45a3i3"
      },
      "execution_count": null,
      "outputs": []
    },
    {
      "cell_type": "code",
      "source": [
        "log_dir = \"/content/logs/fit/\" + datetime.datetime.now().strftime(\"%Y%m%d-%H%M%S\")\n",
        "tensorboard_callback = tf.keras.callbacks.TensorBoard(log_dir=log_dir, histogram_freq=1)"
      ],
      "metadata": {
        "id": "uRsC0khvpXFC"
      },
      "execution_count": null,
      "outputs": []
    },
    {
      "cell_type": "code",
      "source": [
        "if wannaTrain:\n",
        "\thistory = autoencoder.fit(\n",
        "\t\tx= ae_train,\n",
        "\t\ty= ae_train, \n",
        "\t\tepochs=EPOCHS,\n",
        "\t\tvalidation_data=(ae_test, ae_test),\n",
        "\t\tbatch_size=Batch_Size,\n",
        "\t\tcallbacks=[mc, early_stop, checkpoint, tensorboard_callback, lr_reduce])"
      ],
      "metadata": {
        "id": "iqNS2UEglDuV"
      },
      "execution_count": null,
      "outputs": []
    },
    {
      "cell_type": "code",
      "source": [
        "N = np.arange(0, EPOCHS)\n",
        "plt.style.use(\"ggplot\")\n",
        "plt.figure()\n",
        "plt.plot(N, history.history[\"loss\"], label=\"train_loss\")\n",
        "plt.plot(N, history.history[\"val_loss\"], label=\"val_loss\")\n",
        "plt.title(\"Training Loss and Accuracy\")\n",
        "plt.xlabel(\"Epoch #\")\n",
        "plt.ylabel(\"Loss/Accuracy\")\n",
        "plt.legend(loc=\"lower left\")"
      ],
      "metadata": {
        "id": "hKFX38pX5g2B",
        "colab": {
          "base_uri": "https://localhost:8080/",
          "height": 252
        },
        "outputId": "e17a7deb-d42c-4f38-84c7-7af50ea9c6a6"
      },
      "execution_count": null,
      "outputs": [
        {
          "output_type": "error",
          "ename": "NameError",
          "evalue": "ignored",
          "traceback": [
            "\u001b[0;31m---------------------------------------------------------------------------\u001b[0m",
            "\u001b[0;31mNameError\u001b[0m                                 Traceback (most recent call last)",
            "\u001b[0;32m<ipython-input-63-4af2a95987cc>\u001b[0m in \u001b[0;36m<module>\u001b[0;34m\u001b[0m\n\u001b[1;32m      2\u001b[0m \u001b[0mplt\u001b[0m\u001b[0;34m.\u001b[0m\u001b[0mstyle\u001b[0m\u001b[0;34m.\u001b[0m\u001b[0muse\u001b[0m\u001b[0;34m(\u001b[0m\u001b[0;34m\"ggplot\"\u001b[0m\u001b[0;34m)\u001b[0m\u001b[0;34m\u001b[0m\u001b[0;34m\u001b[0m\u001b[0m\n\u001b[1;32m      3\u001b[0m \u001b[0mplt\u001b[0m\u001b[0;34m.\u001b[0m\u001b[0mfigure\u001b[0m\u001b[0;34m(\u001b[0m\u001b[0;34m)\u001b[0m\u001b[0;34m\u001b[0m\u001b[0;34m\u001b[0m\u001b[0m\n\u001b[0;32m----> 4\u001b[0;31m \u001b[0mplt\u001b[0m\u001b[0;34m.\u001b[0m\u001b[0mplot\u001b[0m\u001b[0;34m(\u001b[0m\u001b[0mN\u001b[0m\u001b[0;34m,\u001b[0m \u001b[0mhistory\u001b[0m\u001b[0;34m.\u001b[0m\u001b[0mhistory\u001b[0m\u001b[0;34m[\u001b[0m\u001b[0;34m\"loss\"\u001b[0m\u001b[0;34m]\u001b[0m\u001b[0;34m,\u001b[0m \u001b[0mlabel\u001b[0m\u001b[0;34m=\u001b[0m\u001b[0;34m\"train_loss\"\u001b[0m\u001b[0;34m)\u001b[0m\u001b[0;34m\u001b[0m\u001b[0;34m\u001b[0m\u001b[0m\n\u001b[0m\u001b[1;32m      5\u001b[0m \u001b[0mplt\u001b[0m\u001b[0;34m.\u001b[0m\u001b[0mplot\u001b[0m\u001b[0;34m(\u001b[0m\u001b[0mN\u001b[0m\u001b[0;34m,\u001b[0m \u001b[0mhistory\u001b[0m\u001b[0;34m.\u001b[0m\u001b[0mhistory\u001b[0m\u001b[0;34m[\u001b[0m\u001b[0;34m\"val_loss\"\u001b[0m\u001b[0;34m]\u001b[0m\u001b[0;34m,\u001b[0m \u001b[0mlabel\u001b[0m\u001b[0;34m=\u001b[0m\u001b[0;34m\"val_loss\"\u001b[0m\u001b[0;34m)\u001b[0m\u001b[0;34m\u001b[0m\u001b[0;34m\u001b[0m\u001b[0m\n\u001b[1;32m      6\u001b[0m \u001b[0mplt\u001b[0m\u001b[0;34m.\u001b[0m\u001b[0mtitle\u001b[0m\u001b[0;34m(\u001b[0m\u001b[0;34m\"Training Loss and Accuracy\"\u001b[0m\u001b[0;34m)\u001b[0m\u001b[0;34m\u001b[0m\u001b[0;34m\u001b[0m\u001b[0m\n",
            "\u001b[0;31mNameError\u001b[0m: name 'history' is not defined"
          ]
        },
        {
          "output_type": "display_data",
          "data": {
            "text/plain": [
              "<Figure size 432x288 with 0 Axes>"
            ]
          },
          "metadata": {}
        }
      ]
    },
    {
      "cell_type": "code",
      "source": [
        "print(\"[INFO] making predictions...\")\n",
        "decoded = autoencoder.predict(ae_vali[:25])\n",
        "outputs = None"
      ],
      "metadata": {
        "id": "jixoUZhw5k96",
        "colab": {
          "base_uri": "https://localhost:8080/"
        },
        "outputId": "1e45c603-9246-4391-f7b6-e12f1cbd53b6"
      },
      "execution_count": null,
      "outputs": [
        {
          "output_type": "stream",
          "name": "stdout",
          "text": [
            "[INFO] making predictions...\n",
            "1/1 [==============================] - 0s 41ms/step\n"
          ]
        }
      ]
    },
    {
      "cell_type": "code",
      "source": [
        "decoded.shape"
      ],
      "metadata": {
        "id": "Y3kd0r4g9-bC",
        "colab": {
          "base_uri": "https://localhost:8080/"
        },
        "outputId": "d79769cb-4c45-475e-f045-738dd7d7402a"
      },
      "execution_count": null,
      "outputs": [
        {
          "output_type": "execute_result",
          "data": {
            "text/plain": [
              "(25, 32, 32, 3)"
            ]
          },
          "metadata": {},
          "execution_count": 65
        }
      ]
    },
    {
      "cell_type": "code",
      "source": [
        "fig, ax = plt.subplots(2, 5, figsize=(15, 6))\n",
        "for i in range(2):\n",
        "    for j in range(5):\n",
        "      if i == 0:\n",
        "        ax[i, j].imshow(ae_vali[0*5 + j])\n",
        "        ax[i, j].axis('off')\n",
        "        ax[i, j].set_title(f'Image {0*5 + j + 1}')\n",
        "      else:\n",
        "        ax[i, j].imshow(decoded[0*5 + j])\n",
        "        ax[i, j].axis('off')\n",
        "        ax[i, j].set_title(f'Image {0*5 + j + 1}')\n",
        "\n",
        "plt.show()"
      ],
      "metadata": {
        "id": "p0Cw9NlhZoDs",
        "colab": {
          "base_uri": "https://localhost:8080/",
          "height": 370
        },
        "outputId": "df2b2251-2ccf-4a07-ddee-7fc1b09a054e"
      },
      "execution_count": null,
      "outputs": [
        {
          "output_type": "display_data",
          "data": {
            "text/plain": [
              "<Figure size 1080x432 with 10 Axes>"
            ],
            "image/png": "[encoded data removed]"
          },
          "metadata": {}
        }
      ]
    }
  ]
}