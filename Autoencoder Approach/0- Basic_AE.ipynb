{
  "nbformat": 4,
  "nbformat_minor": 0,
  "metadata": {
    "colab": {
      "provenance": [],
      "mount_file_id": "1nyPWJtobMImOHbKW7bkm47KhlyS2tU4Q",
      "authorship_tag": "ABX9TyNu3NzDtXA4HlZgcrRvx7vE",
      "include_colab_link": true
    },
    "kernelspec": {
      "name": "python3",
      "display_name": "Python 3"
    },
    "language_info": {
      "name": "python"
    },
    "gpuClass": "standard",
    "accelerator": "GPU"
  },
  "cells": [
    {
      "cell_type": "markdown",
      "metadata": {
        "id": "view-in-github",
        "colab_type": "text"
      },
      "source": [
        "<a href=\"https://colab.research.google.com/github/FennicOculus/Image-translation/blob/main/Basic_AE.ipynb\" target=\"_parent\"><img src=\"https://colab.research.google.com/assets/colab-badge.svg\" alt=\"Open In Colab\"/></a>"
      ]
    },
    {
      "cell_type": "markdown",
      "source": [
        "#Importing Libraries"
      ],
      "metadata": {
        "id": "x5vN3HKJfuxl"
      }
    },
    {
      "cell_type": "code",
      "execution_count": 1,
      "metadata": {
        "id": "8--fAIFGTYj_"
      },
      "outputs": [],
      "source": [
        "from tensorflow.keras.layers import BatchNormalization\n",
        "from tensorflow.keras.layers import Conv2D\n",
        "from tensorflow.keras.layers import Conv2DTranspose\n",
        "from tensorflow.keras.layers import LeakyReLU\n",
        "from tensorflow.keras.layers import Activation\n",
        "from tensorflow.keras.layers import Flatten\n",
        "from tensorflow.keras.layers import Dense\n",
        "from tensorflow.keras.layers import Reshape\n",
        "from tensorflow.keras.layers import Input\n",
        "from tensorflow.keras.models import Model\n",
        "from tensorflow.keras import backend as K\n",
        "from tensorflow.keras.optimizers import Adam\n",
        "import numpy as np\n",
        "import os\n",
        "from sklearn.model_selection import train_test_split\n",
        "from tensorflow.keras.datasets import mnist\n",
        "import numpy as np"
      ]
    },
    {
      "cell_type": "markdown",
      "source": [
        "#Encoder"
      ],
      "metadata": {
        "id": "JwufkvOrdDgz"
      }
    },
    {
      "cell_type": "code",
      "source": [
        "latentDim = 16\n",
        "inputShape = (28, 28, 1)\n",
        "chanDim = -1\n",
        "depth = 1"
      ],
      "metadata": {
        "id": "Lv1oXypNb2TK"
      },
      "execution_count": 2,
      "outputs": []
    },
    {
      "cell_type": "code",
      "source": [
        "inputs = Input(shape=inputShape)\n",
        "x = inputs\n",
        "\n",
        "x = Conv2D(16, (3, 3), strides=2, padding=\"same\")(x)\n",
        "x = LeakyReLU(alpha=0.2)(x)\n",
        "x = BatchNormalization(axis=3)(x)\n",
        "\n",
        "x = Conv2D(32, (3, 3), strides=2, padding=\"same\")(x)\n",
        "x = LeakyReLU(alpha=0.2)(x)\n",
        "x = BatchNormalization(axis=chanDim)(x)\n",
        "\n",
        "volumeSize = K.int_shape(x)\n",
        "x = Flatten()(x)\n",
        "latent = Dense(latentDim)(x)"
      ],
      "metadata": {
        "id": "OqLO0-lKbcFt"
      },
      "execution_count": 3,
      "outputs": []
    },
    {
      "cell_type": "code",
      "source": [
        "encoder = Model(inputs, latent, name=\"encoder\")\n",
        "encoder.summary()"
      ],
      "metadata": {
        "colab": {
          "base_uri": "https://localhost:8080/"
        },
        "id": "4KdYhGv1cCxc",
        "outputId": "64d0f281-109f-4a4d-f2c1-cf8ae46ff200"
      },
      "execution_count": 4,
      "outputs": [
        {
          "output_type": "stream",
          "name": "stdout",
          "text": [
            "Model: \"encoder\"\n",
            "_________________________________________________________________\n",
            " Layer (type)                Output Shape              Param #   \n",
            "=================================================================\n",
            " input_1 (InputLayer)        [(None, 28, 28, 1)]       0         \n",
            "                                                                 \n",
            " conv2d (Conv2D)             (None, 14, 14, 16)        160       \n",
            "                                                                 \n",
            " leaky_re_lu (LeakyReLU)     (None, 14, 14, 16)        0         \n",
            "                                                                 \n",
            " batch_normalization (BatchN  (None, 14, 14, 16)       64        \n",
            " ormalization)                                                   \n",
            "                                                                 \n",
            " conv2d_1 (Conv2D)           (None, 7, 7, 32)          4640      \n",
            "                                                                 \n",
            " leaky_re_lu_1 (LeakyReLU)   (None, 7, 7, 32)          0         \n",
            "                                                                 \n",
            " batch_normalization_1 (Batc  (None, 7, 7, 32)         128       \n",
            " hNormalization)                                                 \n",
            "                                                                 \n",
            " flatten (Flatten)           (None, 1568)              0         \n",
            "                                                                 \n",
            " dense (Dense)               (None, 16)                25104     \n",
            "                                                                 \n",
            "=================================================================\n",
            "Total params: 30,096\n",
            "Trainable params: 30,000\n",
            "Non-trainable params: 96\n",
            "_________________________________________________________________\n"
          ]
        }
      ]
    },
    {
      "cell_type": "markdown",
      "source": [
        "#Decoder"
      ],
      "metadata": {
        "id": "yHGSVw8NdAaE"
      }
    },
    {
      "cell_type": "code",
      "source": [
        "latentInputs = Input(shape=(latentDim,))\n",
        "x = Dense(np.prod(volumeSize[1:]))(latentInputs)\n",
        "x = Reshape((volumeSize[1], volumeSize[2], volumeSize[3]))(x)"
      ],
      "metadata": {
        "id": "4FUbwW10cIUz"
      },
      "execution_count": 5,
      "outputs": []
    },
    {
      "cell_type": "code",
      "source": [
        "x = Conv2DTranspose(32, (3, 3), strides=2, padding=\"same\")(x)\n",
        "x = LeakyReLU(alpha=0.2)(x)\n",
        "x = BatchNormalization(axis=chanDim)(x)\n",
        "\n",
        "x = Conv2DTranspose(16, (3, 3), strides=2, padding=\"same\")(x)\n",
        "x = LeakyReLU(alpha=0.2)(x)\n",
        "x = BatchNormalization(axis=chanDim)(x)"
      ],
      "metadata": {
        "id": "u_MW5QqvcDWD"
      },
      "execution_count": 6,
      "outputs": []
    },
    {
      "cell_type": "code",
      "source": [
        "x = Conv2DTranspose(depth, (3, 3), padding=\"same\")(x)\n",
        "outputs = Activation(\"sigmoid\")(x)"
      ],
      "metadata": {
        "id": "fEi_lCuPeKwz"
      },
      "execution_count": 7,
      "outputs": []
    },
    {
      "cell_type": "code",
      "source": [
        "decoder = Model(latentInputs, outputs, name=\"decoder\")\n",
        "decoder.summary()"
      ],
      "metadata": {
        "colab": {
          "base_uri": "https://localhost:8080/"
        },
        "id": "_dqW22cDeYAr",
        "outputId": "9bf99f7b-f7c4-4433-c5e2-5af2324d853b"
      },
      "execution_count": 8,
      "outputs": [
        {
          "output_type": "stream",
          "name": "stdout",
          "text": [
            "Model: \"decoder\"\n",
            "_________________________________________________________________\n",
            " Layer (type)                Output Shape              Param #   \n",
            "=================================================================\n",
            " input_2 (InputLayer)        [(None, 16)]              0         \n",
            "                                                                 \n",
            " dense_1 (Dense)             (None, 1568)              26656     \n",
            "                                                                 \n",
            " reshape (Reshape)           (None, 7, 7, 32)          0         \n",
            "                                                                 \n",
            " conv2d_transpose (Conv2DTra  (None, 14, 14, 32)       9248      \n",
            " nspose)                                                         \n",
            "                                                                 \n",
            " leaky_re_lu_2 (LeakyReLU)   (None, 14, 14, 32)        0         \n",
            "                                                                 \n",
            " batch_normalization_2 (Batc  (None, 14, 14, 32)       128       \n",
            " hNormalization)                                                 \n",
            "                                                                 \n",
            " conv2d_transpose_1 (Conv2DT  (None, 28, 28, 16)       4624      \n",
            " ranspose)                                                       \n",
            "                                                                 \n",
            " leaky_re_lu_3 (LeakyReLU)   (None, 28, 28, 16)        0         \n",
            "                                                                 \n",
            " batch_normalization_3 (Batc  (None, 28, 28, 16)       64        \n",
            " hNormalization)                                                 \n",
            "                                                                 \n",
            " conv2d_transpose_2 (Conv2DT  (None, 28, 28, 1)        145       \n",
            " ranspose)                                                       \n",
            "                                                                 \n",
            " activation (Activation)     (None, 28, 28, 1)         0         \n",
            "                                                                 \n",
            "=================================================================\n",
            "Total params: 40,865\n",
            "Trainable params: 40,769\n",
            "Non-trainable params: 96\n",
            "_________________________________________________________________\n"
          ]
        }
      ]
    },
    {
      "cell_type": "code",
      "source": [
        "autoencoder = Model(inputs, decoder(encoder(inputs)), name=\"autoencoder\")\n",
        "autoencoder.summary()"
      ],
      "metadata": {
        "colab": {
          "base_uri": "https://localhost:8080/"
        },
        "id": "0Fg22inNeetM",
        "outputId": "a85aea8a-c15e-474b-ceda-e6083777faae"
      },
      "execution_count": 9,
      "outputs": [
        {
          "output_type": "stream",
          "name": "stdout",
          "text": [
            "Model: \"autoencoder\"\n",
            "_________________________________________________________________\n",
            " Layer (type)                Output Shape              Param #   \n",
            "=================================================================\n",
            " input_1 (InputLayer)        [(None, 28, 28, 1)]       0         \n",
            "                                                                 \n",
            " encoder (Functional)        (None, 16)                30096     \n",
            "                                                                 \n",
            " decoder (Functional)        (None, 28, 28, 1)         40865     \n",
            "                                                                 \n",
            "=================================================================\n",
            "Total params: 70,961\n",
            "Trainable params: 70,769\n",
            "Non-trainable params: 192\n",
            "_________________________________________________________________\n"
          ]
        }
      ]
    },
    {
      "cell_type": "markdown",
      "source": [
        "#Spliting datasets"
      ],
      "metadata": {
        "id": "_9evB7s_hLto"
      }
    },
    {
      "cell_type": "code",
      "source": [
        "((trainX, _), (testX, _)) = mnist.load_data()"
      ],
      "metadata": {
        "id": "VKc4pS1mw4Zn",
        "colab": {
          "base_uri": "https://localhost:8080/"
        },
        "outputId": "e02ad05a-f609-4528-f5be-7029400abbe0"
      },
      "execution_count": 10,
      "outputs": [
        {
          "output_type": "stream",
          "name": "stdout",
          "text": [
            "Downloading data from https://storage.googleapis.com/tensorflow/tf-keras-datasets/mnist.npz\n",
            "11490434/11490434 [==============================] - 2s 0us/step\n"
          ]
        }
      ]
    },
    {
      "cell_type": "code",
      "source": [
        "trainX = np.expand_dims(trainX, axis=-1)\n",
        "testX = np.expand_dims(testX, axis=-1)\n",
        "trainX = trainX.astype(\"float32\") / 255.0\n",
        "testX = testX.astype(\"float32\") / 255.0"
      ],
      "metadata": {
        "id": "GTOalBCexBoO"
      },
      "execution_count": 11,
      "outputs": []
    },
    {
      "cell_type": "code",
      "source": [
        "EPOCHS = 25\n",
        "Batch_Size = 32"
      ],
      "metadata": {
        "id": "o5xaaS1oevcE"
      },
      "execution_count": 12,
      "outputs": []
    },
    {
      "cell_type": "code",
      "source": [
        "encoder.build(inputShape)\n",
        "decoder.build(inputShape)\n",
        "autoencoder.build(inputShape)"
      ],
      "metadata": {
        "id": "H076I7OWkXVU"
      },
      "execution_count": 13,
      "outputs": []
    },
    {
      "cell_type": "code",
      "source": [
        "autoencoder.compile(loss=\"mse\", optimizer=Adam(learning_rate=1e-3))"
      ],
      "metadata": {
        "id": "d1gnlBoQk1tC"
      },
      "execution_count": 14,
      "outputs": []
    },
    {
      "cell_type": "code",
      "source": [
        "history = autoencoder.fit(\n",
        "\ttrainX, trainX,\n",
        "\tvalidation_data=(testX, testX),\n",
        "\tepochs=EPOCHS,\n",
        "\tbatch_size=Batch_Size)"
      ],
      "metadata": {
        "id": "iqNS2UEglDuV",
        "colab": {
          "base_uri": "https://localhost:8080/"
        },
        "outputId": "2d6d49db-da2e-46da-8b2f-c95d3b8dffa5"
      },
      "execution_count": 15,
      "outputs": [
        {
          "output_type": "stream",
          "name": "stdout",
          "text": [
            "Epoch 1/25\n",
            "1875/1875 [==============================] - 26s 7ms/step - loss: 0.0223 - val_loss: 0.0125\n",
            "Epoch 2/25\n",
            "1875/1875 [==============================] - 12s 7ms/step - loss: 0.0114 - val_loss: 0.0102\n",
            "Epoch 3/25\n",
            "1875/1875 [==============================] - 13s 7ms/step - loss: 0.0103 - val_loss: 0.0100\n",
            "Epoch 4/25\n",
            "1875/1875 [==============================] - 14s 8ms/step - loss: 0.0096 - val_loss: 0.0094\n",
            "Epoch 5/25\n",
            "1875/1875 [==============================] - 12s 7ms/step - loss: 0.0092 - val_loss: 0.0091\n",
            "Epoch 6/25\n",
            "1875/1875 [==============================] - 13s 7ms/step - loss: 0.0090 - val_loss: 0.0087\n",
            "Epoch 7/25\n",
            "1875/1875 [==============================] - 13s 7ms/step - loss: 0.0088 - val_loss: 0.0089\n",
            "Epoch 8/25\n",
            "1875/1875 [==============================] - 13s 7ms/step - loss: 0.0086 - val_loss: 0.0083\n",
            "Epoch 9/25\n",
            "1875/1875 [==============================] - 13s 7ms/step - loss: 0.0085 - val_loss: 0.0082\n",
            "Epoch 10/25\n",
            "1875/1875 [==============================] - 12s 6ms/step - loss: 0.0083 - val_loss: 0.0081\n",
            "Epoch 11/25\n",
            "1875/1875 [==============================] - 13s 7ms/step - loss: 0.0082 - val_loss: 0.0080\n",
            "Epoch 12/25\n",
            "1875/1875 [==============================] - 12s 6ms/step - loss: 0.0082 - val_loss: 0.0080\n",
            "Epoch 13/25\n",
            "1875/1875 [==============================] - 12s 7ms/step - loss: 0.0081 - val_loss: 0.0080\n",
            "Epoch 14/25\n",
            "1875/1875 [==============================] - 13s 7ms/step - loss: 0.0080 - val_loss: 0.0080\n",
            "Epoch 15/25\n",
            "1875/1875 [==============================] - 12s 7ms/step - loss: 0.0079 - val_loss: 0.0080\n",
            "Epoch 16/25\n",
            "1875/1875 [==============================] - 13s 7ms/step - loss: 0.0079 - val_loss: 0.0079\n",
            "Epoch 17/25\n",
            "1875/1875 [==============================] - 13s 7ms/step - loss: 0.0079 - val_loss: 0.0078\n",
            "Epoch 18/25\n",
            "1875/1875 [==============================] - 13s 7ms/step - loss: 0.0078 - val_loss: 0.0081\n",
            "Epoch 19/25\n",
            "1875/1875 [==============================] - 13s 7ms/step - loss: 0.0078 - val_loss: 0.0082\n",
            "Epoch 20/25\n",
            "1875/1875 [==============================] - 13s 7ms/step - loss: 0.0077 - val_loss: 0.0077\n",
            "Epoch 21/25\n",
            "1875/1875 [==============================] - 13s 7ms/step - loss: 0.0077 - val_loss: 0.0076\n",
            "Epoch 22/25\n",
            "1875/1875 [==============================] - 13s 7ms/step - loss: 0.0077 - val_loss: 0.0076\n",
            "Epoch 23/25\n",
            "1875/1875 [==============================] - 13s 7ms/step - loss: 0.0076 - val_loss: 0.0075\n",
            "Epoch 24/25\n",
            "1875/1875 [==============================] - 13s 7ms/step - loss: 0.0076 - val_loss: 0.0075\n",
            "Epoch 25/25\n",
            "1875/1875 [==============================] - 14s 8ms/step - loss: 0.0076 - val_loss: 0.0077\n"
          ]
        }
      ]
    },
    {
      "cell_type": "code",
      "source": [
        "from tensorflow.keras.optimizers import Adam\n",
        "from tensorflow.keras.datasets import mnist\n",
        "import matplotlib.pyplot as plt\n",
        "import numpy as np\n",
        "import argparse\n",
        "import cv2"
      ],
      "metadata": {
        "id": "fThO3V1W55yb"
      },
      "execution_count": 29,
      "outputs": []
    },
    {
      "cell_type": "code",
      "source": [
        "N = np.arange(0, EPOCHS)\n",
        "plt.style.use(\"ggplot\")\n",
        "plt.figure()\n",
        "plt.plot(N, history.history[\"loss\"], label=\"train_loss\")\n",
        "plt.plot(N, history.history[\"val_loss\"], label=\"val_loss\")\n",
        "plt.title(\"Training Loss and Accuracy\")\n",
        "plt.xlabel(\"Epoch #\")\n",
        "plt.ylabel(\"Loss/Accuracy\")\n",
        "plt.legend(loc=\"lower left\")"
      ],
      "metadata": {
        "colab": {
          "base_uri": "https://localhost:8080/",
          "height": 316
        },
        "id": "hKFX38pX5g2B",
        "outputId": "58df4b74-dbb2-40e9-cf3b-c6cac1f1309b"
      },
      "execution_count": 30,
      "outputs": [
        {
          "output_type": "execute_result",
          "data": {
            "text/plain": [
              "<matplotlib.legend.Legend at 0x7fbffb18e3d0>"
            ]
          },
          "metadata": {},
          "execution_count": 30
        },
        {
          "output_type": "display_data",
          "data": {
            "text/plain": [
              "<Figure size 432x288 with 1 Axes>"
            ],
            "image/png": "[encoded data removed]"
          },
          "metadata": {}
        }
      ]
    },
    {
      "cell_type": "code",
      "source": [
        "print(\"[INFO] making predictions...\")\n",
        "decoded = autoencoder.predict(testX)\n",
        "outputs = None"
      ],
      "metadata": {
        "colab": {
          "base_uri": "https://localhost:8080/"
        },
        "id": "jixoUZhw5k96",
        "outputId": "576a22e6-fd29-4759-8052-6aa15874e737"
      },
      "execution_count": 31,
      "outputs": [
        {
          "output_type": "stream",
          "name": "stdout",
          "text": [
            "[INFO] making predictions...\n",
            "313/313 [==============================] - 1s 3ms/step\n"
          ]
        }
      ]
    },
    {
      "cell_type": "code",
      "source": [
        "decoded.shape"
      ],
      "metadata": {
        "colab": {
          "base_uri": "https://localhost:8080/"
        },
        "id": "Y3kd0r4g9-bC",
        "outputId": "0d133a2f-4d5b-4473-9083-bf16042ca4e8"
      },
      "execution_count": 32,
      "outputs": [
        {
          "output_type": "execute_result",
          "data": {
            "text/plain": [
              "(10000, 28, 28, 1)"
            ]
          },
          "metadata": {},
          "execution_count": 32
        }
      ]
    },
    {
      "cell_type": "code",
      "source": [
        "testX.shape"
      ],
      "metadata": {
        "colab": {
          "base_uri": "https://localhost:8080/"
        },
        "id": "nhgeC6cY-JVq",
        "outputId": "8a7b633c-fe06-44fb-ce68-01eda3112040"
      },
      "execution_count": 33,
      "outputs": [
        {
          "output_type": "execute_result",
          "data": {
            "text/plain": [
              "(10000, 28, 28, 1)"
            ]
          },
          "metadata": {},
          "execution_count": 33
        }
      ]
    },
    {
      "cell_type": "code",
      "source": [
        "i = 1000"
      ],
      "metadata": {
        "id": "x4z7aPW6-5Oa"
      },
      "execution_count": 34,
      "outputs": []
    },
    {
      "cell_type": "code",
      "source": [
        "plt.imshow(testX[i], cmap=plt.cm.binary)"
      ],
      "metadata": {
        "colab": {
          "base_uri": "https://localhost:8080/",
          "height": 282
        },
        "id": "ZlB7xq8H-LCS",
        "outputId": "bd327752-a522-45b2-f5ba-62b6559cf41c"
      },
      "execution_count": 35,
      "outputs": [
        {
          "output_type": "execute_result",
          "data": {
            "text/plain": [
              "<matplotlib.image.AxesImage at 0x7fbffbbaa040>"
            ]
          },
          "metadata": {},
          "execution_count": 35
        },
        {
          "output_type": "display_data",
          "data": {
            "text/plain": [
              "<Figure size 432x288 with 1 Axes>"
            ],
            "image/png": "[encoded data removed]"
          },
          "metadata": {}
        }
      ]
    },
    {
      "cell_type": "code",
      "source": [
        "plt.imshow(decoded[i], cmap=plt.cm.binary)"
      ],
      "metadata": {
        "colab": {
          "base_uri": "https://localhost:8080/",
          "height": 282
        },
        "id": "NLUHWn26-CZL",
        "outputId": "33aa9a26-23b0-4f5b-d526-53982c375e70"
      },
      "execution_count": 36,
      "outputs": [
        {
          "output_type": "execute_result",
          "data": {
            "text/plain": [
              "<matplotlib.image.AxesImage at 0x7fbffbb72f40>"
            ]
          },
          "metadata": {},
          "execution_count": 36
        },
        {
          "output_type": "display_data",
          "data": {
            "text/plain": [
              "<Figure size 432x288 with 1 Axes>"
            ],
            "image/png": "[encoded data removed]"
          },
          "metadata": {}
        }
      ]
    }
  ]
}